{
 "cells": [
  {
   "cell_type": "code",
   "execution_count": 1,
   "id": "049a2fef-911d-4901-8480-a983f5dee39a",
   "metadata": {},
   "outputs": [],
   "source": [
    "import pandas as pd\n",
    "import numpy as np\n",
    "from sklearn.model_selection import train_test_split\n",
    "from sklearn.preprocessing import StandardScaler, OneHotEncoder\n",
    "from sklearn.compose import ColumnTransformer\n",
    "from sklearn.pipeline import Pipeline\n",
    "from sklearn.linear_model import LogisticRegression\n",
    "import joblib\n",
    "\n",
    "# Rechargez les données (assurez-vous d'avoir sauvegardé une version nettoyée, sinon refaites les étapes de renommage)\n",
    "df = pd.read_csv('../data/raw/credit_card_default.csv', header=1)\n",
    "df = df.rename(columns={'default payment next month': 'TARGET'})"
   ]
  },
  {
   "cell_type": "code",
   "execution_count": 2,
   "id": "b495eabe-aade-44e9-a641-587a4eb9a895",
   "metadata": {},
   "outputs": [],
   "source": [
    "X = df.drop('TARGET', axis=1)\n",
    "y = df['TARGET']"
   ]
  },
  {
   "cell_type": "code",
   "execution_count": 3,
   "id": "2d44fac9-df68-4c92-a4b8-5b89dcb5e888",
   "metadata": {},
   "outputs": [],
   "source": [
    "X_train, X_test, y_train, y_test = train_test_split(\n",
    "    X, y, \n",
    "    test_size=0.2,    # 20% des données pour le test\n",
    "    random_state=42,  # Pour que la séparation soit toujours la même\n",
    "    stratify=y        # C'EST LE PARAMÈTRE LE PLUS IMPORTANT ICI !\n",
    ")"
   ]
  },
  {
   "cell_type": "code",
   "execution_count": 4,
   "id": "3082553e-3318-4cab-ab1c-f602684bd835",
   "metadata": {},
   "outputs": [],
   "source": [
    "# Colonnes catégorielles\n",
    "categorical_features = ['SEX', 'EDUCATION', 'MARRIAGE']\n",
    "\n",
    "# Colonnes numériques (on prend tout sauf les catégorielles et l'ID client)\n",
    "numeric_features = [col for col in X.columns if col not in categorical_features + ['ID']]\n",
    "\n",
    "# Les variables PAY_X sont ordinales, on les traitera comme numériques pour cette baseline\n",
    "# On pourrait les traiter différemment dans un modèle plus avancé"
   ]
  },
  {
   "cell_type": "code",
   "execution_count": 5,
   "id": "987dbbbc-5975-434b-9fe2-f8e1a1b2b067",
   "metadata": {},
   "outputs": [],
   "source": [
    "# Pipeline pour les variables numériques\n",
    "numeric_transformer = StandardScaler()\n",
    "\n",
    "# Pipeline pour les variables catégorielles\n",
    "categorical_transformer = OneHotEncoder(handle_unknown='ignore') # ignore les catégories non vues à l'entraînement"
   ]
  },
  {
   "cell_type": "code",
   "execution_count": 6,
   "id": "30d9d8c3-281d-499b-9c0e-75d43c2d6c1f",
   "metadata": {},
   "outputs": [],
   "source": [
    "preprocessor = ColumnTransformer(\n",
    "    transformers=[\n",
    "        ('num', numeric_transformer, numeric_features),\n",
    "        ('cat', categorical_transformer, categorical_features)\n",
    "    ],\n",
    "    remainder='passthrough' # Garde les autres colonnes (ID) intactes\n",
    ")"
   ]
  },
  {
   "cell_type": "code",
   "execution_count": 7,
   "id": "a396e385-2017-4bd6-bec3-2d6480c58720",
   "metadata": {},
   "outputs": [],
   "source": [
    "model_pipeline = Pipeline(steps=[\n",
    "    ('preprocessor', preprocessor),\n",
    "    ('classifier', LogisticRegression(solver='saga',max_iter=2000, random_state=42))\n",
    "])"
   ]
  },
  {
   "cell_type": "code",
   "execution_count": 8,
   "id": "fe415c2c-691c-45c5-97b1-43455f42de58",
   "metadata": {},
   "outputs": [
    {
     "name": "stdout",
     "output_type": "stream",
     "text": [
      "Modèle de référence entraîné !\n"
     ]
    },
    {
     "name": "stderr",
     "output_type": "stream",
     "text": [
      "C:\\Users\\Ahmad\\loan\\venv\\Lib\\site-packages\\sklearn\\linear_model\\_sag.py:348: ConvergenceWarning: The max_iter was reached which means the coef_ did not converge\n",
      "  warnings.warn(\n"
     ]
    }
   ],
   "source": [
    "# Le pipeline applique le prétraitement et entraîne le modèle sur X_train, y_train\n",
    "model_pipeline.fit(X_train, y_train)\n",
    "print(\"Modèle de référence entraîné !\")"
   ]
  },
  {
   "cell_type": "code",
   "execution_count": 9,
   "id": "69374b2d-0a0b-4b83-b693-5263f1540bd7",
   "metadata": {},
   "outputs": [
    {
     "name": "stdout",
     "output_type": "stream",
     "text": [
      "Accuracy du modèle de référence sur le set de test : 0.7785\n"
     ]
    }
   ],
   "source": [
    "# Évaluation sur le set de test\n",
    "accuracy = model_pipeline.score(X_test, y_test)\n",
    "print(f\"Accuracy du modèle de référence sur le set de test : {accuracy:.4f}\")"
   ]
  },
  {
   "cell_type": "code",
   "execution_count": 10,
   "id": "ed135c00-6feb-41b3-8940-2c5c05b8b045",
   "metadata": {},
   "outputs": [
    {
     "name": "stdout",
     "output_type": "stream",
     "text": [
      "Pipeline sauvegardé !\n"
     ]
    }
   ],
   "source": [
    "# Sauvegarder le pipeline dans un fichier\n",
    "joblib.dump(model_pipeline, 'baseline_logistic_regression_pipeline.pkl')\n",
    "print(\"Pipeline sauvegardé !\")"
   ]
  },
  {
   "cell_type": "code",
   "execution_count": null,
   "id": "fc7ad75b-337b-4d32-ab25-069bee619a2e",
   "metadata": {},
   "outputs": [],
   "source": []
  }
 ],
 "metadata": {
  "kernelspec": {
   "display_name": "Python 3 (ipykernel)",
   "language": "python",
   "name": "python3"
  },
  "language_info": {
   "codemirror_mode": {
    "name": "ipython",
    "version": 3
   },
   "file_extension": ".py",
   "mimetype": "text/x-python",
   "name": "python",
   "nbconvert_exporter": "python",
   "pygments_lexer": "ipython3",
   "version": "3.11.0"
  }
 },
 "nbformat": 4,
 "nbformat_minor": 5
}
