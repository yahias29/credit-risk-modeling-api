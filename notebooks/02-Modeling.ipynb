{
 "cells": [
  {
   "cell_type": "code",
   "execution_count": 1,
   "id": "049a2fef-911d-4901-8480-a983f5dee39a",
   "metadata": {},
   "outputs": [],
   "source": [
    "import pandas as pd\n",
    "import numpy as np\n",
    "from sklearn.model_selection import train_test_split\n",
    "from sklearn.preprocessing import StandardScaler, OneHotEncoder\n",
    "from sklearn.compose import ColumnTransformer\n",
    "from sklearn.pipeline import Pipeline\n",
    "from sklearn.linear_model import LogisticRegression\n",
    "import joblib\n",
    "\n",
    "# Rechargez les données (assurez-vous d'avoir sauvegardé une version nettoyée, sinon refaites les étapes de renommage)\n",
    "df = pd.read_csv('../data/raw/credit_card_default.csv', header=1)\n",
    "df = df.rename(columns={'default payment next month': 'TARGET'})"
   ]
  },
  {
   "cell_type": "code",
   "execution_count": 2,
   "id": "b495eabe-aade-44e9-a641-587a4eb9a895",
   "metadata": {},
   "outputs": [],
   "source": [
    "X = df.drop('TARGET', axis=1)\n",
    "y = df['TARGET']"
   ]
  },
  {
   "cell_type": "code",
   "execution_count": 3,
   "id": "2d44fac9-df68-4c92-a4b8-5b89dcb5e888",
   "metadata": {},
   "outputs": [],
   "source": [
    "X_train, X_test, y_train, y_test = train_test_split(\n",
    "    X, y, \n",
    "    test_size=0.2,    # 20% des données pour le test\n",
    "    random_state=42,  # Pour que la séparation soit toujours la même\n",
    "    stratify=y        # C'EST LE PARAMÈTRE LE PLUS IMPORTANT ICI !\n",
    ")"
   ]
  },
  {
   "cell_type": "code",
   "execution_count": 4,
   "id": "3082553e-3318-4cab-ab1c-f602684bd835",
   "metadata": {},
   "outputs": [],
   "source": [
    "# Colonnes catégorielles\n",
    "categorical_features = ['SEX', 'EDUCATION', 'MARRIAGE']\n",
    "\n",
    "# Colonnes numériques (on prend tout sauf les catégorielles et l'ID client)\n",
    "numeric_features = [col for col in X.columns if col not in categorical_features + ['ID']]\n",
    "\n",
    "# Les variables PAY_X sont ordinales, on les traitera comme numériques pour cette baseline\n",
    "# On pourrait les traiter différemment dans un modèle plus avancé"
   ]
  },
  {
   "cell_type": "code",
   "execution_count": 5,
   "id": "987dbbbc-5975-434b-9fe2-f8e1a1b2b067",
   "metadata": {},
   "outputs": [],
   "source": [
    "# Pipeline pour les variables numériques\n",
    "numeric_transformer = StandardScaler()\n",
    "\n",
    "# Pipeline pour les variables catégorielles\n",
    "categorical_transformer = OneHotEncoder(handle_unknown='ignore') # ignore les catégories non vues à l'entraînement"
   ]
  },
  {
   "cell_type": "code",
   "execution_count": 6,
   "id": "30d9d8c3-281d-499b-9c0e-75d43c2d6c1f",
   "metadata": {},
   "outputs": [],
   "source": [
    "preprocessor = ColumnTransformer(\n",
    "    transformers=[\n",
    "        ('num', numeric_transformer, numeric_features),\n",
    "        ('cat', categorical_transformer, categorical_features)\n",
    "    ],\n",
    "    remainder='passthrough' # Garde les autres colonnes (ID) intactes\n",
    ")"
   ]
  },
  {
   "cell_type": "code",
   "execution_count": 7,
   "id": "a396e385-2017-4bd6-bec3-2d6480c58720",
   "metadata": {},
   "outputs": [],
   "source": [
    "model_pipeline = Pipeline(steps=[\n",
    "    ('preprocessor', preprocessor),\n",
    "    ('classifier', LogisticRegression(solver='saga',max_iter=500, random_state=42))\n",
    "])"
   ]
  },
  {
   "cell_type": "code",
   "execution_count": 8,
   "id": "fe415c2c-691c-45c5-97b1-43455f42de58",
   "metadata": {},
   "outputs": [
    {
     "name": "stdout",
     "output_type": "stream",
     "text": [
      "Modèle de référence entraîné !\n"
     ]
    },
    {
     "name": "stderr",
     "output_type": "stream",
     "text": [
      "C:\\Users\\Ahmad\\loan\\venv\\Lib\\site-packages\\sklearn\\linear_model\\_sag.py:348: ConvergenceWarning: The max_iter was reached which means the coef_ did not converge\n",
      "  warnings.warn(\n"
     ]
    }
   ],
   "source": [
    "# Le pipeline applique le prétraitement et entraîne le modèle sur X_train, y_train\n",
    "model_pipeline.fit(X_train, y_train)\n",
    "print(\"Modèle de référence entraîné !\")"
   ]
  },
  {
   "cell_type": "code",
   "execution_count": 9,
   "id": "69374b2d-0a0b-4b83-b693-5263f1540bd7",
   "metadata": {},
   "outputs": [
    {
     "name": "stdout",
     "output_type": "stream",
     "text": [
      "Accuracy du modèle de référence sur le set de test : 0.7785\n"
     ]
    }
   ],
   "source": [
    "# Évaluation sur le set de test\n",
    "accuracy = model_pipeline.score(X_test, y_test)\n",
    "print(f\"Accuracy du modèle de référence sur le set de test : {accuracy:.4f}\")"
   ]
  },
  {
   "cell_type": "code",
   "execution_count": 10,
   "id": "ed135c00-6feb-41b3-8940-2c5c05b8b045",
   "metadata": {},
   "outputs": [
    {
     "name": "stdout",
     "output_type": "stream",
     "text": [
      "Pipeline sauvegardé !\n"
     ]
    }
   ],
   "source": [
    "# Sauvegarder le pipeline dans un fichier\n",
    "joblib.dump(model_pipeline, 'baseline_logistic_regression_pipeline.pkl')\n",
    "print(\"Pipeline sauvegardé !\")"
   ]
  },
  {
   "cell_type": "code",
   "execution_count": 11,
   "id": "fc7ad75b-337b-4d32-ab25-069bee619a2e",
   "metadata": {},
   "outputs": [],
   "source": [
    "from sklearn.ensemble import RandomForestClassifier\n",
    "from xgboost import XGBClassifier\n",
    "from lightgbm import LGBMClassifier"
   ]
  },
  {
   "cell_type": "code",
   "execution_count": 12,
   "id": "468494bb-f2a1-4f46-ba09-a9a21a796715",
   "metadata": {},
   "outputs": [],
   "source": [
    "# Pipeline pour le Random Forest\n",
    "rf_pipeline = Pipeline(steps=[\n",
    "    ('preprocessor', preprocessor),\n",
    "    ('classifier', RandomForestClassifier(random_state=42))\n",
    "])\n",
    "\n",
    "# Pipeline pour XGBoost\n",
    "xgb_pipeline = Pipeline(steps=[\n",
    "    ('preprocessor', preprocessor),\n",
    "    ('classifier', XGBClassifier(random_state=42, use_label_encoder=False, eval_metric='logloss'))\n",
    "])\n",
    "\n",
    "# Pipeline pour LightGBM\n",
    "lgbm_pipeline = Pipeline(steps=[\n",
    "    ('preprocessor', preprocessor),\n",
    "    ('classifier', LGBMClassifier(random_state=42))\n",
    "])\n",
    "\n",
    "# N'oublions pas notre baseline\n",
    "lr_pipeline = joblib.load('baseline_logistic_regression_pipeline.pkl')"
   ]
  },
  {
   "cell_type": "code",
   "execution_count": 13,
   "id": "b67eba5f-6d52-4802-8f35-31adba409ad4",
   "metadata": {},
   "outputs": [],
   "source": [
    "from sklearn.model_selection import StratifiedKFold, cross_validate\n",
    "import time\n",
    "\n",
    "# On définit notre stratégie : 5 \"plis\" stratifiés\n",
    "cv_strategy = StratifiedKFold(n_splits=5, shuffle=True, random_state=42)"
   ]
  },
  {
   "cell_type": "code",
   "execution_count": 14,
   "id": "37d2dc48-3572-4aec-9d08-f6fcba734a33",
   "metadata": {},
   "outputs": [],
   "source": [
    "scoring_metrics = ['roc_auc', 'accuracy', 'precision_macro', 'recall_macro', 'f1_macro']"
   ]
  },
  {
   "cell_type": "code",
   "execution_count": 16,
   "id": "5353ac40-5137-471e-b02a-a563aabd9773",
   "metadata": {},
   "outputs": [
    {
     "data": {
      "image/png": "[encoded data removed]",
      "text/plain": [
       "<Figure size 640x480 with 2 Axes>"
      ]
     },
     "metadata": {},
     "output_type": "display_data"
    }
   ],
   "source": [
    "from sklearn.metrics import ConfusionMatrixDisplay\n",
    "import matplotlib.pyplot as plt\n",
    "rf_pipeline.fit(X_train, y_train)\n",
    "predictions = rf_pipeline.predict(X_test)\n",
    "\n",
    "ConfusionMatrixDisplay.from_predictions(y_test, predictions, display_labels=['Rembourse', 'Défaut'])\n",
    "plt.title('Matrice de Confusion - Random Forest')\n",
    "plt.show()"
   ]
  },
  {
   "cell_type": "code",
   "execution_count": 17,
   "id": "ce07e046-3c75-4537-bffb-68a0f60b61cf",
   "metadata": {},
   "outputs": [
    {
     "name": "stdout",
     "output_type": "stream",
     "text": [
      "Début de l'évaluation des modèles...\n"
     ]
    },
    {
     "name": "stderr",
     "output_type": "stream",
     "text": [
      "C:\\Users\\Ahmad\\loan\\venv\\Lib\\site-packages\\sklearn\\linear_model\\_sag.py:348: ConvergenceWarning: The max_iter was reached which means the coef_ did not converge\n",
      "  warnings.warn(\n",
      "C:\\Users\\Ahmad\\loan\\venv\\Lib\\site-packages\\sklearn\\linear_model\\_sag.py:348: ConvergenceWarning: The max_iter was reached which means the coef_ did not converge\n",
      "  warnings.warn(\n",
      "C:\\Users\\Ahmad\\loan\\venv\\Lib\\site-packages\\sklearn\\linear_model\\_sag.py:348: ConvergenceWarning: The max_iter was reached which means the coef_ did not converge\n",
      "  warnings.warn(\n",
      "C:\\Users\\Ahmad\\loan\\venv\\Lib\\site-packages\\sklearn\\linear_model\\_sag.py:348: ConvergenceWarning: The max_iter was reached which means the coef_ did not converge\n",
      "  warnings.warn(\n",
      "C:\\Users\\Ahmad\\loan\\venv\\Lib\\site-packages\\sklearn\\linear_model\\_sag.py:348: ConvergenceWarning: The max_iter was reached which means the coef_ did not converge\n",
      "  warnings.warn(\n"
     ]
    },
    {
     "name": "stdout",
     "output_type": "stream",
     "text": [
      "Régression Logistique évalué en 230.14 secondes.\n",
      "Random Forest évalué en 77.41 secondes.\n"
     ]
    },
    {
     "name": "stderr",
     "output_type": "stream",
     "text": [
      "C:\\Users\\Ahmad\\loan\\venv\\Lib\\site-packages\\xgboost\\training.py:183: UserWarning: [21:41:37] WARNING: C:\\actions-runner\\_work\\xgboost\\xgboost\\src\\learner.cc:738: \n",
      "Parameters: { \"use_label_encoder\" } are not used.\n",
      "\n",
      "  bst.update(dtrain, iteration=i, fobj=obj)\n",
      "C:\\Users\\Ahmad\\loan\\venv\\Lib\\site-packages\\xgboost\\training.py:183: UserWarning: [21:41:38] WARNING: C:\\actions-runner\\_work\\xgboost\\xgboost\\src\\learner.cc:738: \n",
      "Parameters: { \"use_label_encoder\" } are not used.\n",
      "\n",
      "  bst.update(dtrain, iteration=i, fobj=obj)\n",
      "C:\\Users\\Ahmad\\loan\\venv\\Lib\\site-packages\\xgboost\\training.py:183: UserWarning: [21:41:39] WARNING: C:\\actions-runner\\_work\\xgboost\\xgboost\\src\\learner.cc:738: \n",
      "Parameters: { \"use_label_encoder\" } are not used.\n",
      "\n",
      "  bst.update(dtrain, iteration=i, fobj=obj)\n",
      "C:\\Users\\Ahmad\\loan\\venv\\Lib\\site-packages\\xgboost\\training.py:183: UserWarning: [21:41:40] WARNING: C:\\actions-runner\\_work\\xgboost\\xgboost\\src\\learner.cc:738: \n",
      "Parameters: { \"use_label_encoder\" } are not used.\n",
      "\n",
      "  bst.update(dtrain, iteration=i, fobj=obj)\n",
      "C:\\Users\\Ahmad\\loan\\venv\\Lib\\site-packages\\xgboost\\training.py:183: UserWarning: [21:41:41] WARNING: C:\\actions-runner\\_work\\xgboost\\xgboost\\src\\learner.cc:738: \n",
      "Parameters: { \"use_label_encoder\" } are not used.\n",
      "\n",
      "  bst.update(dtrain, iteration=i, fobj=obj)\n"
     ]
    },
    {
     "name": "stdout",
     "output_type": "stream",
     "text": [
      "XGBoost évalué en 5.47 secondes.\n",
      "[LightGBM] [Info] Number of positive: 4248, number of negative: 14952\n",
      "[LightGBM] [Info] Auto-choosing row-wise multi-threading, the overhead of testing was 0.002137 seconds.\n",
      "You can set `force_row_wise=true` to remove the overhead.\n",
      "And if memory is not enough, you can set `force_col_wise=true`.\n",
      "[LightGBM] [Info] Total Bins 3529\n",
      "[LightGBM] [Info] Number of data points in the train set: 19200, number of used features: 33\n",
      "[LightGBM] [Info] [binary:BoostFromScore]: pavg=0.221250 -> initscore=-1.258397\n",
      "[LightGBM] [Info] Start training from score -1.258397\n"
     ]
    },
    {
     "name": "stderr",
     "output_type": "stream",
     "text": [
      "C:\\Users\\Ahmad\\loan\\venv\\Lib\\site-packages\\sklearn\\utils\\validation.py:2749: UserWarning: X does not have valid feature names, but LGBMClassifier was fitted with feature names\n",
      "  warnings.warn(\n",
      "C:\\Users\\Ahmad\\loan\\venv\\Lib\\site-packages\\sklearn\\utils\\validation.py:2749: UserWarning: X does not have valid feature names, but LGBMClassifier was fitted with feature names\n",
      "  warnings.warn(\n"
     ]
    },
    {
     "name": "stdout",
     "output_type": "stream",
     "text": [
      "[LightGBM] [Info] Number of positive: 4247, number of negative: 14953\n",
      "[LightGBM] [Info] Auto-choosing col-wise multi-threading, the overhead of testing was 0.006620 seconds.\n",
      "You can set `force_col_wise=true` to remove the overhead.\n",
      "[LightGBM] [Info] Total Bins 3532\n",
      "[LightGBM] [Info] Number of data points in the train set: 19200, number of used features: 33\n",
      "[LightGBM] [Info] [binary:BoostFromScore]: pavg=0.221198 -> initscore=-1.258699\n",
      "[LightGBM] [Info] Start training from score -1.258699\n"
     ]
    },
    {
     "name": "stderr",
     "output_type": "stream",
     "text": [
      "C:\\Users\\Ahmad\\loan\\venv\\Lib\\site-packages\\sklearn\\utils\\validation.py:2749: UserWarning: X does not have valid feature names, but LGBMClassifier was fitted with feature names\n",
      "  warnings.warn(\n",
      "C:\\Users\\Ahmad\\loan\\venv\\Lib\\site-packages\\sklearn\\utils\\validation.py:2749: UserWarning: X does not have valid feature names, but LGBMClassifier was fitted with feature names\n",
      "  warnings.warn(\n"
     ]
    },
    {
     "name": "stdout",
     "output_type": "stream",
     "text": [
      "[LightGBM] [Info] Number of positive: 4247, number of negative: 14953\n",
      "[LightGBM] [Info] Auto-choosing col-wise multi-threading, the overhead of testing was 0.006528 seconds.\n",
      "You can set `force_col_wise=true` to remove the overhead.\n",
      "[LightGBM] [Info] Total Bins 3532\n",
      "[LightGBM] [Info] Number of data points in the train set: 19200, number of used features: 33\n",
      "[LightGBM] [Info] [binary:BoostFromScore]: pavg=0.221198 -> initscore=-1.258699\n",
      "[LightGBM] [Info] Start training from score -1.258699\n"
     ]
    },
    {
     "name": "stderr",
     "output_type": "stream",
     "text": [
      "C:\\Users\\Ahmad\\loan\\venv\\Lib\\site-packages\\sklearn\\utils\\validation.py:2749: UserWarning: X does not have valid feature names, but LGBMClassifier was fitted with feature names\n",
      "  warnings.warn(\n",
      "C:\\Users\\Ahmad\\loan\\venv\\Lib\\site-packages\\sklearn\\utils\\validation.py:2749: UserWarning: X does not have valid feature names, but LGBMClassifier was fitted with feature names\n",
      "  warnings.warn(\n"
     ]
    },
    {
     "name": "stdout",
     "output_type": "stream",
     "text": [
      "[LightGBM] [Info] Number of positive: 4247, number of negative: 14953\n",
      "[LightGBM] [Info] Auto-choosing row-wise multi-threading, the overhead of testing was 0.002004 seconds.\n",
      "You can set `force_row_wise=true` to remove the overhead.\n",
      "And if memory is not enough, you can set `force_col_wise=true`.\n",
      "[LightGBM] [Info] Total Bins 3533\n",
      "[LightGBM] [Info] Number of data points in the train set: 19200, number of used features: 33\n",
      "[LightGBM] [Info] [binary:BoostFromScore]: pavg=0.221198 -> initscore=-1.258699\n",
      "[LightGBM] [Info] Start training from score -1.258699\n"
     ]
    },
    {
     "name": "stderr",
     "output_type": "stream",
     "text": [
      "C:\\Users\\Ahmad\\loan\\venv\\Lib\\site-packages\\sklearn\\utils\\validation.py:2749: UserWarning: X does not have valid feature names, but LGBMClassifier was fitted with feature names\n",
      "  warnings.warn(\n",
      "C:\\Users\\Ahmad\\loan\\venv\\Lib\\site-packages\\sklearn\\utils\\validation.py:2749: UserWarning: X does not have valid feature names, but LGBMClassifier was fitted with feature names\n",
      "  warnings.warn(\n"
     ]
    },
    {
     "name": "stdout",
     "output_type": "stream",
     "text": [
      "[LightGBM] [Info] Number of positive: 4247, number of negative: 14953\n",
      "[LightGBM] [Info] Auto-choosing row-wise multi-threading, the overhead of testing was 0.002594 seconds.\n",
      "You can set `force_row_wise=true` to remove the overhead.\n",
      "And if memory is not enough, you can set `force_col_wise=true`.\n",
      "[LightGBM] [Info] Total Bins 3529\n",
      "[LightGBM] [Info] Number of data points in the train set: 19200, number of used features: 33\n",
      "[LightGBM] [Info] [binary:BoostFromScore]: pavg=0.221198 -> initscore=-1.258699\n",
      "[LightGBM] [Info] Start training from score -1.258699\n",
      "LightGBM évalué en 13.51 secondes.\n"
     ]
    },
    {
     "name": "stderr",
     "output_type": "stream",
     "text": [
      "C:\\Users\\Ahmad\\loan\\venv\\Lib\\site-packages\\sklearn\\utils\\validation.py:2749: UserWarning: X does not have valid feature names, but LGBMClassifier was fitted with feature names\n",
      "  warnings.warn(\n",
      "C:\\Users\\Ahmad\\loan\\venv\\Lib\\site-packages\\sklearn\\utils\\validation.py:2749: UserWarning: X does not have valid feature names, but LGBMClassifier was fitted with feature names\n",
      "  warnings.warn(\n"
     ]
    },
    {
     "data": {
      "text/html": [
       "<div>\n",
       "<style scoped>\n",
       "    .dataframe tbody tr th:only-of-type {\n",
       "        vertical-align: middle;\n",
       "    }\n",
       "\n",
       "    .dataframe tbody tr th {\n",
       "        vertical-align: top;\n",
       "    }\n",
       "\n",
       "    .dataframe thead th {\n",
       "        text-align: right;\n",
       "    }\n",
       "</style>\n",
       "<table border=\"1\" class=\"dataframe\">\n",
       "  <thead>\n",
       "    <tr style=\"text-align: right;\">\n",
       "      <th></th>\n",
       "      <th>ROC AUC (Moyenne CV)</th>\n",
       "      <th>ROC AUC (Écart-type CV)</th>\n",
       "      <th>Recall (Moyenne CV)</th>\n",
       "      <th>Precision (Moyenne CV)</th>\n",
       "      <th>Temps d'entraînement (s)</th>\n",
       "    </tr>\n",
       "  </thead>\n",
       "  <tbody>\n",
       "    <tr>\n",
       "      <th>Régression Logistique</th>\n",
       "      <td>0.523823</td>\n",
       "      <td>0.016042</td>\n",
       "      <td>0.504813</td>\n",
       "      <td>0.651204</td>\n",
       "      <td>230.139572</td>\n",
       "    </tr>\n",
       "    <tr>\n",
       "      <th>Random Forest</th>\n",
       "      <td>0.768989</td>\n",
       "      <td>0.004762</td>\n",
       "      <td>0.658193</td>\n",
       "      <td>0.750545</td>\n",
       "      <td>77.408360</td>\n",
       "    </tr>\n",
       "    <tr>\n",
       "      <th>XGBoost</th>\n",
       "      <td>0.763762</td>\n",
       "      <td>0.004602</td>\n",
       "      <td>0.655042</td>\n",
       "      <td>0.734012</td>\n",
       "      <td>5.473087</td>\n",
       "    </tr>\n",
       "    <tr>\n",
       "      <th>LightGBM</th>\n",
       "      <td>0.778708</td>\n",
       "      <td>0.004496</td>\n",
       "      <td>0.659170</td>\n",
       "      <td>0.754359</td>\n",
       "      <td>13.507857</td>\n",
       "    </tr>\n",
       "  </tbody>\n",
       "</table>\n",
       "</div>"
      ],
      "text/plain": [
       "                       ROC AUC (Moyenne CV)  ROC AUC (Écart-type CV)  \\\n",
       "Régression Logistique              0.523823                 0.016042   \n",
       "Random Forest                      0.768989                 0.004762   \n",
       "XGBoost                            0.763762                 0.004602   \n",
       "LightGBM                           0.778708                 0.004496   \n",
       "\n",
       "                       Recall (Moyenne CV)  Precision (Moyenne CV)  \\\n",
       "Régression Logistique             0.504813                0.651204   \n",
       "Random Forest                     0.658193                0.750545   \n",
       "XGBoost                           0.655042                0.734012   \n",
       "LightGBM                          0.659170                0.754359   \n",
       "\n",
       "                       Temps d'entraînement (s)  \n",
       "Régression Logistique                230.139572  \n",
       "Random Forest                         77.408360  \n",
       "XGBoost                                5.473087  \n",
       "LightGBM                              13.507857  "
      ]
     },
     "execution_count": 17,
     "metadata": {},
     "output_type": "execute_result"
    }
   ],
   "source": [
    "# Dictionnaire de nos modèles\n",
    "models = {\n",
    "    \"Régression Logistique\": lr_pipeline,\n",
    "    \"Random Forest\": rf_pipeline,\n",
    "    \"XGBoost\": xgb_pipeline,\n",
    "    \"LightGBM\": lgbm_pipeline\n",
    "}\n",
    "\n",
    "results = {}\n",
    "\n",
    "print(\"Début de l'évaluation des modèles...\")\n",
    "\n",
    "for name, model in models.items():\n",
    "    start_time = time.time()\n",
    "    \n",
    "    # Exécuter la validation croisée\n",
    "    cv_results = cross_validate(model, X_train, y_train, cv=cv_strategy, scoring=scoring_metrics)\n",
    "    \n",
    "    end_time = time.time()\n",
    "    \n",
    "    # Stocker les résultats\n",
    "    results[name] = {\n",
    "        'ROC AUC (Moyenne CV)': cv_results['test_roc_auc'].mean(),\n",
    "        'ROC AUC (Écart-type CV)': cv_results['test_roc_auc'].std(),\n",
    "        'Recall (Moyenne CV)': cv_results['test_recall_macro'].mean(),\n",
    "        'Precision (Moyenne CV)': cv_results['test_precision_macro'].mean(),\n",
    "        'Temps d\\'entraînement (s)': end_time - start_time\n",
    "    }\n",
    "    print(f\"{name} évalué en {end_time - start_time:.2f} secondes.\")\n",
    "\n",
    "# Créer un DataFrame à partir des résultats\n",
    "results_df = pd.DataFrame(results).T # .T pour transposer le tableau\n",
    "\n",
    "# Afficher le tableau final\n",
    "results_df"
   ]
  },
  {
   "cell_type": "markdown",
   "id": "eaad532e-f46e-4493-847a-8d6a7477a093",
   "metadata": {},
   "source": [
    "LightGBM a le meilleur ROC AUC moyen (0,779) et le meilleur Recall (0,659). Le temps d'entraînement de 13s est bien \n",
    "meilleur que celui de RL(230s) et RF(77s) mais est-ce que ça vaut le coup comparé à XGBoost (5s) avec \n",
    "des performances quasiment similaires.\n",
    "Au vu des résultats, le modèle XGBoost semble offrir le meilleur compromis entre une excellente performance-rappel\n",
    "(ROC AUC de 0.764, Recall de 0,655) et un temps d'entraînement, je le sélectionne donc pour la prochaine étape."
   ]
  }
 ],
 "metadata": {
  "kernelspec": {
   "display_name": "Python 3 (ipykernel)",
   "language": "python",
   "name": "python3"
  },
  "language_info": {
   "codemirror_mode": {
    "name": "ipython",
    "version": 3
   },
   "file_extension": ".py",
   "mimetype": "text/x-python",
   "name": "python",
   "nbconvert_exporter": "python",
   "pygments_lexer": "ipython3",
   "version": "3.11.0"
  }
 },
 "nbformat": 4,
 "nbformat_minor": 5
}
