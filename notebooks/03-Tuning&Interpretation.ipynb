{
 "cells": [
  {
   "cell_type": "code",
   "execution_count": 4,
   "id": "fbcb9521-27e9-46d7-b17a-fa47fad1dbbd",
   "metadata": {},
   "outputs": [],
   "source": [
    "# Imports pour la manipulation des données\n",
    "import pandas as pd\n",
    "import numpy as np\n",
    "\n",
    "# Imports pour la modélisation et l'évaluation\n",
    "import xgboost as xgb\n",
    "from sklearn.pipeline import Pipeline\n",
    "from sklearn.model_selection import StratifiedKFold, GridSearchCV\n",
    "\n",
    "# Imports pour la sauvegarde et l'interprétabilité\n",
    "import joblib\n",
    "import shap"
   ]
  },
  {
   "cell_type": "code",
   "execution_count": 3,
   "id": "69e08204-d09f-40a6-9d97-004e1d06e000",
   "metadata": {},
   "outputs": [
    {
     "ename": "SyntaxError",
     "evalue": "invalid syntax (1710763522.py, line 4)",
     "output_type": "error",
     "traceback": [
      "  \u001b[36mCell\u001b[39m\u001b[36m \u001b[39m\u001b[32mIn[3]\u001b[39m\u001b[32m, line 4\u001b[39m\n\u001b[31m    \u001b[39m\u001b[31mxgb_pipeline_for_tuning = Pipeline(steps=)\u001b[39m\n                                             ^\n\u001b[31mSyntaxError\u001b[39m\u001b[31m:\u001b[39m invalid syntax\n"
     ]
    }
   ],
   "source": [
    "# On crée un nouveau pipeline avec le classifieur XGBoost non entraîné\n",
    "# C'est ce pipeline que GridSearchCV va utiliser et régler\n",
    "xgb_pipeline = joblib.load('xgb_pipeline.pkl')\n",
    "xgb_pipeline_for_tuning = Pipeline(steps=)\n",
    "\n",
    "# Définition de la grille de recherche\n",
    "# NOTE : Les noms des paramètres doivent commencer par 'classifier__'\n",
    "# pour dire à scikit-learn que ce sont des paramètres du classifieur DANS le pipeline.\n",
    "param_grid = {\n",
    "    'classifier__n_estimators': ,         # Nombre d'arbres\n",
    "    'classifier__max_depth': [1, 2],                # Profondeur maximale des arbres\n",
    "    'classifier__learning_rate': [0.05, 0.1],       # Taux d'apprentissage\n",
    "    'classifier__subsample': [0.7, 1.0]             # Fraction des données à utiliser pour chaque arbre\n",
    "}\n"
   ]
  },
  {
   "cell_type": "code",
   "execution_count": null,
   "id": "f0e33dd6-61e2-4291-a87a-285cabc9881e",
   "metadata": {},
   "outputs": [],
   "source": []
  }
 ],
 "metadata": {
  "kernelspec": {
   "display_name": "Python 3 (ipykernel)",
   "language": "python",
   "name": "python3"
  },
  "language_info": {
   "codemirror_mode": {
    "name": "ipython",
    "version": 3
   },
   "file_extension": ".py",
   "mimetype": "text/x-python",
   "name": "python",
   "nbconvert_exporter": "python",
   "pygments_lexer": "ipython3",
   "version": "3.11.0"
  }
 },
 "nbformat": 4,
 "nbformat_minor": 5
}
